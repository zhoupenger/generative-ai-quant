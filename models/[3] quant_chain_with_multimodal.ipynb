{
 "cells": [
  {
   "cell_type": "code",
   "execution_count": 27,
   "metadata": {},
   "outputs": [],
   "source": [
    "import os\n",
    "import sys\n",
    "import warnings\n",
    "import pandas as pd\n",
    "warnings.filterwarnings('ignore')\n",
    "\n",
    "parent_path = os.path.dirname(os.getcwd())\n",
    "tools_path = os.path.join(parent_path, 'tools')\n",
    "sys.path.append(parent_path)\n",
    "sys.path.append(tools_path)\n",
    "\n",
    "from tools.path import get_env_path, get_prompt_from_file\n",
    "from tools.agent_GEP import GeneticProgram\n",
    "from tools.backtest import BacktestEngine\n",
    "from tools.more_operators import *\n",
    "from tools.evaluate_and_visualizations import *\n",
    "from tools.common import update_database\n",
    "from tools.multimodal import *"
   ]
  },
  {
   "cell_type": "code",
   "execution_count": 28,
   "metadata": {},
   "outputs": [
    {
     "data": {
      "text/plain": [
       "True"
      ]
     },
     "execution_count": 28,
     "metadata": {},
     "output_type": "execute_result"
    }
   ],
   "source": [
    "from dotenv import load_dotenv\n",
    "env = get_env_path('project')\n",
    "load_dotenv(env)"
   ]
  },
  {
   "cell_type": "code",
   "execution_count": 29,
   "metadata": {},
   "outputs": [],
   "source": [
    "aapl = pd.read_feather(parent_path+'/data/AAPL_with_indicators.feather')\n",
    "amzn = pd.read_feather(parent_path+'/data/AMZN_with_indicators.feather')\n",
    "goog = pd.read_feather(parent_path+'/data/GOOGL_with_indicators.feather')\n",
    "msft = pd.read_feather(parent_path+'/data/MSFT_with_indicators.feather')\n",
    "tsla = pd.read_feather(parent_path+'/data/TSLA_with_indicators.feather')"
   ]
  },
  {
   "cell_type": "code",
   "execution_count": 30,
   "metadata": {},
   "outputs": [],
   "source": [
    "from langchain_core.messages import (\n",
    "    BaseMessage,\n",
    "    ToolMessage,\n",
    "    HumanMessage,\n",
    ")\n",
    "from langchain.schema.messages import HumanMessage, AIMessage\n",
    "from langchain_core.prompts import ChatPromptTemplate, MessagesPlaceholder\n",
    "from langgraph.graph import END, StateGraph"
   ]
  },
  {
   "cell_type": "code",
   "execution_count": 31,
   "metadata": {},
   "outputs": [],
   "source": [
    "import operator\n",
    "import base64\n",
    "from typing import Annotated, Sequence, TypedDict, Optional, List\n",
    "\n",
    "from langchain_openai import ChatOpenAI\n",
    "from typing_extensions import TypedDict\n",
    "from pandas import DataFrame"
   ]
  },
  {
   "cell_type": "code",
   "execution_count": 32,
   "metadata": {},
   "outputs": [],
   "source": [
    "# Agent State在不同node里进行更新并且传输\n",
    "class AgentState(TypedDict):\n",
    "    messages: Annotated[Sequence[BaseMessage], operator.add]\n",
    "    time: str\n",
    "\n",
    "    price_node_decision: str\n",
    "    graph_node_decision: str\n",
    "    news_node_decision: str\n",
    "    final_decision: str\n",
    "    \n",
    "    # 存储当前训练的轮数\n",
    "    roll: int"
   ]
  },
  {
   "cell_type": "code",
   "execution_count": 33,
   "metadata": {},
   "outputs": [
    {
     "data": {
      "text/plain": [
       "'2023-02-22'"
      ]
     },
     "execution_count": 33,
     "metadata": {},
     "output_type": "execute_result"
    }
   ],
   "source": [
    "train_size = int(len(aapl) * 0.8)\n",
    "test_df = aapl[train_size:]\n",
    "\n",
    "date = test_df['date'].astype(str).to_list()\n",
    "date[0]"
   ]
  },
  {
   "cell_type": "code",
   "execution_count": 34,
   "metadata": {},
   "outputs": [],
   "source": [
    "# 这里创建的是一个用来存储最终信号的空表格\n",
    "none_list = [None]*len(date)\n",
    "final_signal = pd.DataFrame({\n",
    "    \"date\": date,\n",
    "    \"long signal\": none_list,\n",
    "    \"short signal\": none_list\n",
    "})\n",
    "\n",
    "price_base_path = parent_path + '/data/price/'\n",
    "graph_base_path = parent_path + '/data/graph/'\n",
    "news_base_path = parent_path + '/data/news/'"
   ]
  },
  {
   "cell_type": "code",
   "execution_count": 35,
   "metadata": {},
   "outputs": [
    {
     "data": {
      "text/plain": [
       "299"
      ]
     },
     "execution_count": 35,
     "metadata": {},
     "output_type": "execute_result"
    }
   ],
   "source": [
    "# 需要回测多少天\n",
    "len(date)"
   ]
  },
  {
   "cell_type": "code",
   "execution_count": 36,
   "metadata": {},
   "outputs": [],
   "source": [
    "def router(state):\n",
    "    roll = state['roll']\n",
    "    if roll == 299:\n",
    "        # 认为已经找到了最好的signal\n",
    "        return \"__end__\"\n",
    "    return \"continue\""
   ]
  },
  {
   "cell_type": "code",
   "execution_count": 37,
   "metadata": {},
   "outputs": [],
   "source": [
    "def manager_node(state):\n",
    "    \n",
    "    # 控制轮数，每一轮代表每一天\n",
    "    if state['roll'] == None:\n",
    "        # 初始化\n",
    "        state['roll'] = 0\n",
    "    else:\n",
    "        state['roll'] += 1\n",
    "    \n",
    "    when_is_now = state['roll']\n",
    "\n",
    "    # TODO: 这里控制reflection\n",
    "\n",
    "    return {\n",
    "        \"messages\": ['Manager reflection made'],\n",
    "        \"time\": date[when_is_now],\n",
    "        \"price_node_decision\": None,\n",
    "        \"graph_node_decision\": None,\n",
    "        \"news_node_decision\": None,\n",
    "        \"final_decision\": None,\n",
    "        \"roll\": state['roll'],\n",
    "    }\n",
    "\n",
    "def price_node(state):\n",
    "    # 这个agent需要提取的是价格特征\n",
    "    # 第一个是短期价格特征-最近10天的\n",
    "    # 第二个是长期价格特征-过去一个月的\n",
    "\n",
    "    llm = ChatOpenAI(model=\"gpt-4-1106-preview\")\n",
    "\n",
    "    system_prompt = get_prompt_from_file(\"model_3_price_node\")\n",
    "    prompt = ChatPromptTemplate.from_messages(\n",
    "        [\n",
    "            (\"system\", system_prompt),\n",
    "            MessagesPlaceholder(variable_name=\"messages\"),\n",
    "        ]\n",
    "    )\n",
    "\n",
    "    time = state['time']\n",
    "    short_term_price_path = price_base_path+time+'_short_term.feather'\n",
    "    long_term_price_path = price_base_path+time+'_long_term.feather'\n",
    "\n",
    "    short_term_price_changes = pd.read_feather(short_term_price_path)\n",
    "    long_term_price_changes = pd.read_feather(long_term_price_path)\n",
    "\n",
    "    prompt = prompt.partial(short_term_price_changes=short_term_price_changes)\n",
    "    prompt = prompt.partial(long_term_price_changes=long_term_price_changes)\n",
    "    signal_chain = prompt | llm\n",
    "    \n",
    "    result = signal_chain.invoke(['Please make an investment decision for me based on current price changes.'])\n",
    "    price_node_decision = str(result.content)\n",
    "\n",
    "\n",
    "    return {\n",
    "        \"messages\": ['price_node decision made'],\n",
    "        \"time\": state['time'],\n",
    "        \"price_node_decision\": price_node_decision,\n",
    "        \"graph_node_decision\": None,\n",
    "        \"news_node_decision\": None,\n",
    "        \"final_decision\": None,\n",
    "        \"roll\": state['roll'],\n",
    "    }\n",
    "\n",
    "def graph_node(state):\n",
    "    # 这个agent需要提取的是图片特征\n",
    "    # 自动生成过去10天的K线图\n",
    "    # 自动生成过去一个月的K线图 \n",
    "    chain = ChatOpenAI(model=\"gpt-4o\", max_tokens=1024)\n",
    "\n",
    "    time = state['time']\n",
    "    short_term_graph_path = graph_base_path+time+'_10days.png'\n",
    "    long_term_graph_path = graph_base_path+time+'_1month.png'\n",
    "\n",
    "\n",
    "    image1 = encode_image(short_term_graph_path)\n",
    "    image2 = encode_image(long_term_graph_path)\n",
    "\n",
    "\n",
    "    msg = chain.invoke(\n",
    "        [   \n",
    "            AIMessage(\n",
    "            content=\"You are a AI investment assistant, responsible for assessing short-term and long-term k-line charts of stocks, and making decisions on whether to Invest.\"\n",
    "            ),\n",
    "            \n",
    "            HumanMessage(\n",
    "                content=[\n",
    "                    {\"type\": \"text\", \"text\": \"The k-line chart of the past 10 days is being displayed:\"},\n",
    "                    {\n",
    "                        \"type\": \"image_url\",\n",
    "                        \"image_url\": {\n",
    "                            \"url\": f\"data:image/jpeg;base64,{image1}\"\n",
    "                        },\n",
    "                    },\n",
    "\n",
    "                    {\"type\": \"text\", \"text\": \"The k-line chart of the past month is being displayed:\"},\n",
    "                    {\n",
    "                        \"type\": \"image_url\",\n",
    "                        \"image_url\": {\n",
    "                            \"url\": f\"data:image/jpeg;base64,{image2}\"\n",
    "                        },\n",
    "                    },\n",
    "                    {\"type\": \"text\", \"text\": \"Please clarify explicitly whether I should buy, sell, or wait. Your response should be limited to only 'LONG', 'SHORT', or 'WAIT'.\"},\n",
    "                    {\"type\": \"text\", \"text\": \"You don't need to explain the reason, only output and respond one word with 'LONG', 'SHORT', or 'WAIT'.\"},\n",
    "                    {\"type\": \"text\", \"text\": \"You should pay attention to the structure of the K-line and the dynamic changes in volumes.\"},\n",
    "                    {\"type\": \"text\", \"text\": \"Please note that you should prefer to select 'LONG' or 'SHORT' instead of 'WAIT'.\"},\n",
    "                ]\n",
    "            )\n",
    "        ]\n",
    "    )\n",
    "\n",
    "    graph_node_decision = str(msg.content)\n",
    "\n",
    "\n",
    "\n",
    "    return {\n",
    "        \"messages\": ['graph_node decision made'],\n",
    "        \"time\": state['time'],\n",
    "        \"price_node_decision\": state['price_node_decision'],\n",
    "        \"graph_node_decision\": graph_node_decision,\n",
    "        \"news_node_decision\": None,\n",
    "        \"final_decision\": None,\n",
    "        \"roll\": state['roll'],\n",
    "    }\n",
    "\n",
    "def news_node(state):\n",
    "    # 给出目标标的当天发生的新闻\n",
    "    time = state['time']\n",
    "\n",
    "    news_path = news_base_path+time+'.feather'\n",
    "    news = pd.read_feather(news_path)\n",
    "    news_combined = news['News'].str.cat(sep=' ')\n",
    "\n",
    "    llm = ChatOpenAI(model=\"gpt-4-1106-preview\")\n",
    "    \n",
    "    system_prompt = get_prompt_from_file(\"model_3_news_node\")\n",
    "    prompt = ChatPromptTemplate.from_messages(\n",
    "        [\n",
    "            (\"system\", system_prompt),\n",
    "            MessagesPlaceholder(variable_name=\"messages\"),\n",
    "        ]\n",
    "    )\n",
    "    \n",
    "    prompt = prompt.partial(news_combined=news_combined)\n",
    "    signal_chain = prompt | llm\n",
    "\n",
    "    result = signal_chain.invoke(['Please make an investment decision for me based on news events today.'])\n",
    "    news_node_decision = str(result.content)\n",
    "\n",
    "    \n",
    "    return {\n",
    "        \"messages\": ['news_node decision made'],\n",
    "        \"time\": state['time'],\n",
    "        \"price_node_decision\": state['price_node_decision'],\n",
    "        \"graph_node_decision\": state['graph_node_decision'],\n",
    "        \"news_node_decision\": news_node_decision,\n",
    "        \"final_decision\": None,\n",
    "        \"roll\": state['roll'],\n",
    "    }\n",
    "\n",
    "def evaluate_node(state):\n",
    "        \n",
    "    when_is_now = state['roll']\n",
    "\n",
    "    # 总结每一个节点的决策\n",
    "    llm = ChatOpenAI(model=\"gpt-4-1106-preview\")\n",
    "\n",
    "    system_prompt = get_prompt_from_file(\"model_3_evaluate_node\")\n",
    "    prompt = ChatPromptTemplate.from_messages(\n",
    "        [\n",
    "            (\"system\", system_prompt),\n",
    "            MessagesPlaceholder(variable_name=\"messages\"),\n",
    "        ]\n",
    "    )\n",
    "    \n",
    "    prompt = prompt.partial(price_node_decision=state['price_node_decision'])\n",
    "    prompt = prompt.partial(graph_node_decision=state['graph_node_decision'])\n",
    "    prompt = prompt.partial(news_node_decision=state['news_node_decision'])\n",
    "    signal_chain = prompt | llm\n",
    "    \n",
    "    result = signal_chain.invoke(['Help me make the investment decision at the current time point.'])\n",
    "    final_decision = str(result.content)\n",
    "\n",
    "    if result.content == \"LONG\":\n",
    "        final_signal.loc[when_is_now, 'long signal'] = 1\n",
    "\n",
    "    elif result.content == \"SHORT\":\n",
    "        final_signal.loc[when_is_now,'short signal'] = -1\n",
    "\n",
    "    # 初始化\n",
    "    return {\n",
    "        \"messages\": ['Evaluate was made'],\n",
    "        \"time\": state['time'],\n",
    "        \"price_node_decision\": state['price_node_decision'],\n",
    "        \"graph_node_decision\": state['graph_node_decision'],\n",
    "        \"news_node_decision\": state['news_node_decision'],\n",
    "        \"final_decision\": final_decision,\n",
    "        \"roll\": state['roll'],\n",
    "    }"
   ]
  },
  {
   "cell_type": "code",
   "execution_count": 38,
   "metadata": {},
   "outputs": [],
   "source": [
    "workflow = StateGraph(AgentState)\n",
    "\n",
    "workflow.add_node(\"manager\", manager_node)\n",
    "workflow.add_node(\"price_node\", price_node)\n",
    "workflow.add_node(\"graph_node\", graph_node)\n",
    "workflow.add_node(\"news_node\", news_node)\n",
    "workflow.add_node(\"evaluate\", evaluate_node)\n",
    "\n",
    "\n",
    "workflow.add_edge(\"manager\", \"price_node\")\n",
    "workflow.add_edge(\"price_node\", \"graph_node\")\n",
    "workflow.add_edge(\"graph_node\", \"news_node\")\n",
    "workflow.add_edge(\"news_node\", \"evaluate\")\n",
    "#workflow.add_edge(\"evaluate\", END)\n",
    "\n",
    "workflow.add_conditional_edges(\n",
    "    \"evaluate\",\n",
    "    router,\n",
    "    {\"continue\": \"manager\", \"__end__\": END},\n",
    ")\n",
    "\n",
    "workflow.set_entry_point(\"manager\")\n",
    "graph = workflow.compile()"
   ]
  },
  {
   "cell_type": "code",
   "execution_count": 39,
   "metadata": {},
   "outputs": [
    {
     "data": {
      "image/jpeg": "[encoded data removed]",
      "text/plain": [
       "<IPython.core.display.Image object>"
      ]
     },
     "metadata": {},
     "output_type": "display_data"
    }
   ],
   "source": [
    "from IPython.display import Image, display\n",
    "\n",
    "display(Image(graph.get_graph(xray=True).draw_mermaid_png()))"
   ]
  },
  {
   "cell_type": "code",
   "execution_count": 40,
   "metadata": {},
   "outputs": [
    {
     "name": "stdout",
     "output_type": "stream",
     "text": [
      "{'manager': {'messages': ['Manager reflection made'], 'time': '2023-02-22', 'price_node_decision': None, 'graph_node_decision': None, 'news_node_decision': None, 'final_decision': None, 'roll': 0}}\n",
      "----\n",
      "{'price_node': {'messages': ['price_node decision made'], 'time': '2023-02-22', 'price_node_decision': 'WAIT', 'graph_node_decision': None, 'news_node_decision': None, 'final_decision': None, 'roll': 0}}\n",
      "----\n",
      "{'graph_node': {'messages': ['graph_node decision made'], 'time': '2023-02-22', 'price_node_decision': 'WAIT', 'graph_node_decision': 'SHORT', 'news_node_decision': None, 'final_decision': None, 'roll': 0}}\n",
      "----\n",
      "{'news_node': {'messages': ['news_node decision made'], 'time': '2023-02-22', 'price_node_decision': 'WAIT', 'graph_node_decision': 'SHORT', 'news_node_decision': 'WAIT', 'final_decision': None, 'roll': 0}}\n",
      "----\n",
      "{'evaluate': {'messages': ['Evaluate was made'], 'time': '2023-02-22', 'price_node_decision': 'WAIT', 'graph_node_decision': 'SHORT', 'news_node_decision': 'WAIT', 'final_decision': 'WAIT', 'roll': 0}}\n",
      "----\n",
      "{'manager': {'messages': ['Manager reflection made'], 'time': '2023-02-23', 'price_node_decision': None, 'graph_node_decision': None, 'news_node_decision': None, 'final_decision': None, 'roll': 1}}\n",
      "----\n",
      "{'price_node': {'messages': ['price_node decision made'], 'time': '2023-02-23', 'price_node_decision': 'SHORT', 'graph_node_decision': None, 'news_node_decision': None, 'final_decision': None, 'roll': 1}}\n",
      "----\n",
      "{'graph_node': {'messages': ['graph_node decision made'], 'time': '2023-02-23', 'price_node_decision': 'SHORT', 'graph_node_decision': 'SHORT', 'news_node_decision': None, 'final_decision': None, 'roll': 1}}\n",
      "----\n",
      "{'news_node': {'messages': ['news_node decision made'], 'time': '2023-02-23', 'price_node_decision': 'SHORT', 'graph_node_decision': 'SHORT', 'news_node_decision': 'SHORT', 'final_decision': None, 'roll': 1}}\n",
      "----\n",
      "{'evaluate': {'messages': ['Evaluate was made'], 'time': '2023-02-23', 'price_node_decision': 'SHORT', 'graph_node_decision': 'SHORT', 'news_node_decision': 'SHORT', 'final_decision': 'SHORT', 'roll': 1}}\n",
      "----\n",
      "{'manager': {'messages': ['Manager reflection made'], 'time': '2023-02-24', 'price_node_decision': None, 'graph_node_decision': None, 'news_node_decision': None, 'final_decision': None, 'roll': 2}}\n",
      "----\n",
      "{'price_node': {'messages': ['price_node decision made'], 'time': '2023-02-24', 'price_node_decision': 'SHORT', 'graph_node_decision': None, 'news_node_decision': None, 'final_decision': None, 'roll': 2}}\n",
      "----\n",
      "{'graph_node': {'messages': ['graph_node decision made'], 'time': '2023-02-24', 'price_node_decision': 'SHORT', 'graph_node_decision': 'SHORT', 'news_node_decision': None, 'final_decision': None, 'roll': 2}}\n",
      "----\n"
     ]
    },
    {
     "ename": "KeyboardInterrupt",
     "evalue": "",
     "output_type": "error",
     "traceback": [
      "\u001b[0;31m---------------------------------------------------------------------------\u001b[0m",
      "\u001b[0;31mKeyboardInterrupt\u001b[0m                         Traceback (most recent call last)",
      "Cell \u001b[0;32mIn[40], line 12\u001b[0m\n\u001b[1;32m      1\u001b[0m events \u001b[38;5;241m=\u001b[39m graph\u001b[38;5;241m.\u001b[39mstream(\n\u001b[1;32m      2\u001b[0m     {\n\u001b[1;32m      3\u001b[0m         \u001b[38;5;124m\"\u001b[39m\u001b[38;5;124mmessages\u001b[39m\u001b[38;5;124m\"\u001b[39m: [\n\u001b[0;32m   (...)\u001b[0m\n\u001b[1;32m     10\u001b[0m     {\u001b[38;5;124m\"\u001b[39m\u001b[38;5;124mrecursion_limit\u001b[39m\u001b[38;5;124m\"\u001b[39m: \u001b[38;5;241m150\u001b[39m},\n\u001b[1;32m     11\u001b[0m )\n\u001b[0;32m---> 12\u001b[0m \u001b[38;5;28;01mfor\u001b[39;00m s \u001b[38;5;129;01min\u001b[39;00m events:\n\u001b[1;32m     13\u001b[0m     \u001b[38;5;28mprint\u001b[39m(s)\n\u001b[1;32m     14\u001b[0m     \u001b[38;5;28mprint\u001b[39m(\u001b[38;5;124m\"\u001b[39m\u001b[38;5;124m----\u001b[39m\u001b[38;5;124m\"\u001b[39m)\n",
      "File \u001b[0;32m~/anaconda3/envs/LLM/lib/python3.10/site-packages/langgraph/pregel/__init__.py:869\u001b[0m, in \u001b[0;36mPregel.stream\u001b[0;34m(self, input, config, stream_mode, output_keys, input_keys, interrupt_before, interrupt_after, debug)\u001b[0m\n\u001b[1;32m    862\u001b[0m futures \u001b[38;5;241m=\u001b[39m [\n\u001b[1;32m    863\u001b[0m     executor\u001b[38;5;241m.\u001b[39msubmit(run_with_retry, task, \u001b[38;5;28mself\u001b[39m\u001b[38;5;241m.\u001b[39mretry_policy)\n\u001b[1;32m    864\u001b[0m     \u001b[38;5;28;01mfor\u001b[39;00m task \u001b[38;5;129;01min\u001b[39;00m next_tasks\n\u001b[1;32m    865\u001b[0m ]\n\u001b[1;32m    867\u001b[0m \u001b[38;5;66;03m# execute tasks, and wait for one to fail or all to finish.\u001b[39;00m\n\u001b[1;32m    868\u001b[0m \u001b[38;5;66;03m# each task is independent from all other concurrent tasks\u001b[39;00m\n\u001b[0;32m--> 869\u001b[0m done, inflight \u001b[38;5;241m=\u001b[39m \u001b[43mconcurrent\u001b[49m\u001b[38;5;241;43m.\u001b[39;49m\u001b[43mfutures\u001b[49m\u001b[38;5;241;43m.\u001b[39;49m\u001b[43mwait\u001b[49m\u001b[43m(\u001b[49m\n\u001b[1;32m    870\u001b[0m \u001b[43m    \u001b[49m\u001b[43mfutures\u001b[49m\u001b[43m,\u001b[49m\n\u001b[1;32m    871\u001b[0m \u001b[43m    \u001b[49m\u001b[43mreturn_when\u001b[49m\u001b[38;5;241;43m=\u001b[39;49m\u001b[43mconcurrent\u001b[49m\u001b[38;5;241;43m.\u001b[39;49m\u001b[43mfutures\u001b[49m\u001b[38;5;241;43m.\u001b[39;49m\u001b[43mFIRST_EXCEPTION\u001b[49m\u001b[43m,\u001b[49m\n\u001b[1;32m    872\u001b[0m \u001b[43m    \u001b[49m\u001b[43mtimeout\u001b[49m\u001b[38;5;241;43m=\u001b[39;49m\u001b[38;5;28;43mself\u001b[39;49m\u001b[38;5;241;43m.\u001b[39;49m\u001b[43mstep_timeout\u001b[49m\u001b[43m,\u001b[49m\n\u001b[1;32m    873\u001b[0m \u001b[43m\u001b[49m\u001b[43m)\u001b[49m\n\u001b[1;32m    875\u001b[0m \u001b[38;5;66;03m# panic on failure or timeout\u001b[39;00m\n\u001b[1;32m    876\u001b[0m _panic_or_proceed(done, inflight, step)\n",
      "File \u001b[0;32m~/anaconda3/envs/LLM/lib/python3.10/concurrent/futures/_base.py:307\u001b[0m, in \u001b[0;36mwait\u001b[0;34m(fs, timeout, return_when)\u001b[0m\n\u001b[1;32m    303\u001b[0m         \u001b[38;5;28;01mreturn\u001b[39;00m DoneAndNotDoneFutures(done, not_done)\n\u001b[1;32m    305\u001b[0m     waiter \u001b[38;5;241m=\u001b[39m _create_and_install_waiters(fs, return_when)\n\u001b[0;32m--> 307\u001b[0m \u001b[43mwaiter\u001b[49m\u001b[38;5;241;43m.\u001b[39;49m\u001b[43mevent\u001b[49m\u001b[38;5;241;43m.\u001b[39;49m\u001b[43mwait\u001b[49m\u001b[43m(\u001b[49m\u001b[43mtimeout\u001b[49m\u001b[43m)\u001b[49m\n\u001b[1;32m    308\u001b[0m \u001b[38;5;28;01mfor\u001b[39;00m f \u001b[38;5;129;01min\u001b[39;00m fs:\n\u001b[1;32m    309\u001b[0m     \u001b[38;5;28;01mwith\u001b[39;00m f\u001b[38;5;241m.\u001b[39m_condition:\n",
      "File \u001b[0;32m~/anaconda3/envs/LLM/lib/python3.10/threading.py:607\u001b[0m, in \u001b[0;36mEvent.wait\u001b[0;34m(self, timeout)\u001b[0m\n\u001b[1;32m    605\u001b[0m signaled \u001b[38;5;241m=\u001b[39m \u001b[38;5;28mself\u001b[39m\u001b[38;5;241m.\u001b[39m_flag\n\u001b[1;32m    606\u001b[0m \u001b[38;5;28;01mif\u001b[39;00m \u001b[38;5;129;01mnot\u001b[39;00m signaled:\n\u001b[0;32m--> 607\u001b[0m     signaled \u001b[38;5;241m=\u001b[39m \u001b[38;5;28;43mself\u001b[39;49m\u001b[38;5;241;43m.\u001b[39;49m\u001b[43m_cond\u001b[49m\u001b[38;5;241;43m.\u001b[39;49m\u001b[43mwait\u001b[49m\u001b[43m(\u001b[49m\u001b[43mtimeout\u001b[49m\u001b[43m)\u001b[49m\n\u001b[1;32m    608\u001b[0m \u001b[38;5;28;01mreturn\u001b[39;00m signaled\n",
      "File \u001b[0;32m~/anaconda3/envs/LLM/lib/python3.10/threading.py:320\u001b[0m, in \u001b[0;36mCondition.wait\u001b[0;34m(self, timeout)\u001b[0m\n\u001b[1;32m    318\u001b[0m \u001b[38;5;28;01mtry\u001b[39;00m:    \u001b[38;5;66;03m# restore state no matter what (e.g., KeyboardInterrupt)\u001b[39;00m\n\u001b[1;32m    319\u001b[0m     \u001b[38;5;28;01mif\u001b[39;00m timeout \u001b[38;5;129;01mis\u001b[39;00m \u001b[38;5;28;01mNone\u001b[39;00m:\n\u001b[0;32m--> 320\u001b[0m         \u001b[43mwaiter\u001b[49m\u001b[38;5;241;43m.\u001b[39;49m\u001b[43macquire\u001b[49m\u001b[43m(\u001b[49m\u001b[43m)\u001b[49m\n\u001b[1;32m    321\u001b[0m         gotit \u001b[38;5;241m=\u001b[39m \u001b[38;5;28;01mTrue\u001b[39;00m\n\u001b[1;32m    322\u001b[0m     \u001b[38;5;28;01melse\u001b[39;00m:\n",
      "\u001b[0;31mKeyboardInterrupt\u001b[0m: "
     ]
    }
   ],
   "source": [
    "events = graph.stream(\n",
    "    {\n",
    "        \"messages\": [\n",
    "            HumanMessage(\n",
    "                content=\"Lets start !\"\n",
    "            )\n",
    "        ],\n",
    "    },\n",
    "    # Maximum number of steps to take in the graph\n",
    "    {\"recursion_limit\": 150},\n",
    ")\n",
    "for s in events:\n",
    "    print(s)\n",
    "    print(\"----\")"
   ]
  }
 ],
 "metadata": {
  "kernelspec": {
   "display_name": "LLM",
   "language": "python",
   "name": "python3"
  },
  "language_info": {
   "codemirror_mode": {
    "name": "ipython",
    "version": 3
   },
   "file_extension": ".py",
   "mimetype": "text/x-python",
   "name": "python",
   "nbconvert_exporter": "python",
   "pygments_lexer": "ipython3",
   "version": "3.10.14"
  }
 },
 "nbformat": 4,
 "nbformat_minor": 2
}
