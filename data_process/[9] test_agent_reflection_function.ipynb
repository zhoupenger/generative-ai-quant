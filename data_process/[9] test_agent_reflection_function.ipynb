{
 "cells": [
  {
   "cell_type": "code",
   "execution_count": 4,
   "metadata": {},
   "outputs": [],
   "source": [
    "# 这个文件用来检查model1的信号转好功能是否正常\n",
    "# 这个功能很容易出错\n",
    "\n",
    "import os\n",
    "import sys\n",
    "import warnings\n",
    "import pandas as pd\n",
    "warnings.filterwarnings('ignore')\n",
    "\n",
    "parent_path = os.path.dirname(os.getcwd())\n",
    "tools_path = os.path.join(parent_path, 'tools')\n",
    "sys.path.append(parent_path)\n",
    "sys.path.append(tools_path)\n",
    "\n",
    "from tools.path import get_env_path, get_prompt_from_file\n",
    "from tools.agent_GEP import GeneticProgram\n",
    "from tools.backtest import BacktestEngine\n",
    "from tools.more_operators import *\n",
    "from tools.evaluate_and_visualizations import *"
   ]
  },
  {
   "cell_type": "code",
   "execution_count": 5,
   "metadata": {},
   "outputs": [
    {
     "data": {
      "text/plain": [
       "True"
      ]
     },
     "execution_count": 5,
     "metadata": {},
     "output_type": "execute_result"
    }
   ],
   "source": [
    "from dotenv import load_dotenv\n",
    "env = get_env_path('project')\n",
    "load_dotenv(env)"
   ]
  },
  {
   "cell_type": "code",
   "execution_count": 6,
   "metadata": {},
   "outputs": [],
   "source": [
    "from langchain_core.messages import (\n",
    "    BaseMessage,\n",
    "    ToolMessage,\n",
    "    HumanMessage,\n",
    ")\n",
    "from langchain_core.prompts import ChatPromptTemplate, MessagesPlaceholder\n",
    "from langgraph.graph import END, StateGraph\n",
    "\n",
    "from langchain_openai import ChatOpenAI\n",
    "from typing_extensions import TypedDict\n",
    "from pandas import DataFrame"
   ]
  },
  {
   "cell_type": "code",
   "execution_count": 7,
   "metadata": {},
   "outputs": [],
   "source": [
    "llm = ChatOpenAI(model=\"gpt-4-1106-preview\")\n",
    "system_prompt = get_prompt_from_file(\"model_2_researcher_node\")\n",
    "\n",
    "prompt = ChatPromptTemplate.from_messages(\n",
    "        [\n",
    "            (\"system\", system_prompt),\n",
    "            MessagesPlaceholder(variable_name=\"messages\"),\n",
    "        ]\n",
    "    )\n",
    "\n",
    "# 打开和读取文件\n",
    "\n",
    "results = 'signal 1, return 0, max drawdown 0'\n",
    "prompt = prompt.partial(results=results)\n",
    "\n",
    "reflection_chain = prompt | llm\n",
    "result = reflection_chain.invoke(['help me complete the task'])\n",
    "\n",
    "execution_result = str(result.content)"
   ]
  },
  {
   "cell_type": "code",
   "execution_count": 8,
   "metadata": {},
   "outputs": [
    {
     "data": {
      "text/plain": [
       "'gp = GeneticProgram(data=train_df, head=15, tournsize=3, mut_invert=0.2, mut_is_transpose=0.2, mut_ris_transpose=0.2, mut_gene_transpose=0.2, cx_1p=0.1, cx_2p=0.1, cx_gene=0.1)\\npop, log, hof = gp.run(n_pop=1000, n_gen=10)'"
      ]
     },
     "execution_count": 8,
     "metadata": {},
     "output_type": "execute_result"
    }
   ],
   "source": [
    "execution_result"
   ]
  },
  {
   "cell_type": "code",
   "execution_count": 6,
   "metadata": {},
   "outputs": [],
   "source": [
    "#execution_result = 'gp = GeneticProgram(data=train_df, head=12, genes=2)\\npop, log, hof = gp.run(n_pop=500, n_gen=5)'"
   ]
  },
  {
   "cell_type": "code",
   "execution_count": 6,
   "metadata": {},
   "outputs": [
    {
     "name": "stdout",
     "output_type": "stream",
     "text": [
      "gen\tnevals\tavg   \tstd    \tmin\tmax    \n",
      "0  \t1000  \t1.0737\t1.62778\t-1 \t7.82695\n",
      "1  \t999   \t2.53909\t2.03787\t-0.9755\t7.82695\n"
     ]
    },
    {
     "ename": "KeyboardInterrupt",
     "evalue": "",
     "output_type": "error",
     "traceback": [
      "\u001b[0;31m---------------------------------------------------------------------------\u001b[0m",
      "\u001b[0;31mKeyboardInterrupt\u001b[0m                         Traceback (most recent call last)",
      "Cell \u001b[0;32mIn[6], line 2\u001b[0m\n\u001b[1;32m      1\u001b[0m train_df \u001b[38;5;241m=\u001b[39m pd\u001b[38;5;241m.\u001b[39mread_feather(parent_path\u001b[38;5;241m+\u001b[39m\u001b[38;5;124m'\u001b[39m\u001b[38;5;124m/data/AAPL_with_indicators.feather\u001b[39m\u001b[38;5;124m'\u001b[39m)\n\u001b[0;32m----> 2\u001b[0m \u001b[43mexec\u001b[49m\u001b[43m(\u001b[49m\u001b[43mexecution_result\u001b[49m\u001b[43m)\u001b[49m\n",
      "File \u001b[0;32m<string>:2\u001b[0m\n",
      "File \u001b[0;32m~/Desktop/Generative_AI_Quant/tools/agent_GEP.py:303\u001b[0m, in \u001b[0;36mGeneticProgram.run\u001b[0;34m(self, n_pop, n_gen)\u001b[0m\n\u001b[1;32m    300\u001b[0m hof \u001b[38;5;241m=\u001b[39m tools\u001b[38;5;241m.\u001b[39mHallOfFame(\u001b[38;5;241m3\u001b[39m)\n\u001b[1;32m    302\u001b[0m \u001b[38;5;66;03m# 运行遗传算法\u001b[39;00m\n\u001b[0;32m--> 303\u001b[0m pop, log \u001b[38;5;241m=\u001b[39m \u001b[43mgep\u001b[49m\u001b[38;5;241;43m.\u001b[39;49m\u001b[43mgep_simple\u001b[49m\u001b[43m(\u001b[49m\u001b[43mpop\u001b[49m\u001b[43m,\u001b[49m\u001b[43m \u001b[49m\u001b[38;5;28;43mself\u001b[39;49m\u001b[38;5;241;43m.\u001b[39;49m\u001b[43mtoolbox\u001b[49m\u001b[43m,\u001b[49m\u001b[43m \u001b[49m\u001b[43mn_generations\u001b[49m\u001b[38;5;241;43m=\u001b[39;49m\u001b[43mn_gen\u001b[49m\u001b[43m,\u001b[49m\u001b[43m \u001b[49m\u001b[43mn_elites\u001b[49m\u001b[38;5;241;43m=\u001b[39;49m\u001b[38;5;241;43m1\u001b[39;49m\u001b[43m,\u001b[49m\u001b[43m \u001b[49m\u001b[43mstats\u001b[49m\u001b[38;5;241;43m=\u001b[39;49m\u001b[43mstats\u001b[49m\u001b[43m,\u001b[49m\u001b[43m \u001b[49m\u001b[43mhall_of_fame\u001b[49m\u001b[38;5;241;43m=\u001b[39;49m\u001b[43mhof\u001b[49m\u001b[43m,\u001b[49m\u001b[43m \u001b[49m\u001b[43mverbose\u001b[49m\u001b[38;5;241;43m=\u001b[39;49m\u001b[38;5;28;43;01mTrue\u001b[39;49;00m\u001b[43m)\u001b[49m\n\u001b[1;32m    305\u001b[0m \u001b[38;5;28;01mreturn\u001b[39;00m pop, log, hof\n",
      "File \u001b[0;32m~/anaconda3/envs/LLM/lib/python3.10/site-packages/geppy/algorithms/basic.py:100\u001b[0m, in \u001b[0;36mgep_simple\u001b[0;34m(population, toolbox, n_generations, n_elites, stats, hall_of_fame, verbose)\u001b[0m\n\u001b[1;32m     98\u001b[0m invalid_individuals \u001b[38;5;241m=\u001b[39m [ind \u001b[38;5;28;01mfor\u001b[39;00m ind \u001b[38;5;129;01min\u001b[39;00m population \u001b[38;5;28;01mif\u001b[39;00m \u001b[38;5;129;01mnot\u001b[39;00m ind\u001b[38;5;241m.\u001b[39mfitness\u001b[38;5;241m.\u001b[39mvalid]\n\u001b[1;32m     99\u001b[0m fitnesses \u001b[38;5;241m=\u001b[39m toolbox\u001b[38;5;241m.\u001b[39mmap(toolbox\u001b[38;5;241m.\u001b[39mevaluate, invalid_individuals)\n\u001b[0;32m--> 100\u001b[0m \u001b[38;5;28;01mfor\u001b[39;00m ind, fit \u001b[38;5;129;01min\u001b[39;00m \u001b[38;5;28mzip\u001b[39m(invalid_individuals, fitnesses):\n\u001b[1;32m    101\u001b[0m     ind\u001b[38;5;241m.\u001b[39mfitness\u001b[38;5;241m.\u001b[39mvalues \u001b[38;5;241m=\u001b[39m fit\n\u001b[1;32m    103\u001b[0m \u001b[38;5;66;03m# record statistics and log\u001b[39;00m\n",
      "File \u001b[0;32m~/Desktop/Generative_AI_Quant/tools/agent_GEP.py:123\u001b[0m, in \u001b[0;36mGeneticProgram.evaluate\u001b[0;34m(self, individual, _open, _high, _low, _close, _volume, SMA, EMA, RSI, DX, ATR, BIAS, ROC, data)\u001b[0m\n\u001b[1;32m    121\u001b[0m \u001b[38;5;66;03m# 突破检查\u001b[39;00m\n\u001b[1;32m    122\u001b[0m     upper_breakout \u001b[38;5;241m=\u001b[39m signals[i] \u001b[38;5;241m>\u001b[39m np\u001b[38;5;241m.\u001b[39mpercentile(past_signals, \u001b[38;5;241m80\u001b[39m)\n\u001b[0;32m--> 123\u001b[0m     lower_breakout \u001b[38;5;241m=\u001b[39m signals[i] \u001b[38;5;241m<\u001b[39m \u001b[43mnp\u001b[49m\u001b[38;5;241;43m.\u001b[39;49m\u001b[43mpercentile\u001b[49m\u001b[43m(\u001b[49m\u001b[43mpast_signals\u001b[49m\u001b[43m,\u001b[49m\u001b[43m \u001b[49m\u001b[38;5;241;43m20\u001b[39;49m\u001b[43m)\u001b[49m\n\u001b[1;32m    125\u001b[0m     \u001b[38;5;28;01mif\u001b[39;00m upper_breakout \u001b[38;5;129;01mand\u001b[39;00m long_or_short \u001b[38;5;241m==\u001b[39m \u001b[38;5;241m0\u001b[39m:\n\u001b[1;32m    126\u001b[0m         df\u001b[38;5;241m.\u001b[39mloc[i, \u001b[38;5;124m'\u001b[39m\u001b[38;5;124mlong signal\u001b[39m\u001b[38;5;124m'\u001b[39m] \u001b[38;5;241m=\u001b[39m \u001b[38;5;241m1\u001b[39m\n",
      "File \u001b[0;32m~/anaconda3/envs/LLM/lib/python3.10/site-packages/numpy/lib/function_base.py:4275\u001b[0m, in \u001b[0;36mpercentile\u001b[0;34m(a, q, axis, out, overwrite_input, method, keepdims, interpolation)\u001b[0m\n\u001b[1;32m   4271\u001b[0m \u001b[38;5;28;01mif\u001b[39;00m interpolation \u001b[38;5;129;01mis\u001b[39;00m \u001b[38;5;129;01mnot\u001b[39;00m \u001b[38;5;28;01mNone\u001b[39;00m:\n\u001b[1;32m   4272\u001b[0m     method \u001b[38;5;241m=\u001b[39m _check_interpolation_as_method(\n\u001b[1;32m   4273\u001b[0m         method, interpolation, \u001b[38;5;124m\"\u001b[39m\u001b[38;5;124mpercentile\u001b[39m\u001b[38;5;124m\"\u001b[39m)\n\u001b[0;32m-> 4275\u001b[0m a \u001b[38;5;241m=\u001b[39m \u001b[43mnp\u001b[49m\u001b[38;5;241;43m.\u001b[39;49m\u001b[43masanyarray\u001b[49m\u001b[43m(\u001b[49m\u001b[43ma\u001b[49m\u001b[43m)\u001b[49m\n\u001b[1;32m   4276\u001b[0m \u001b[38;5;28;01mif\u001b[39;00m a\u001b[38;5;241m.\u001b[39mdtype\u001b[38;5;241m.\u001b[39mkind \u001b[38;5;241m==\u001b[39m \u001b[38;5;124m\"\u001b[39m\u001b[38;5;124mc\u001b[39m\u001b[38;5;124m\"\u001b[39m:\n\u001b[1;32m   4277\u001b[0m     \u001b[38;5;28;01mraise\u001b[39;00m \u001b[38;5;167;01mTypeError\u001b[39;00m(\u001b[38;5;124m\"\u001b[39m\u001b[38;5;124ma must be an array of real numbers\u001b[39m\u001b[38;5;124m\"\u001b[39m)\n",
      "\u001b[0;31mKeyboardInterrupt\u001b[0m: "
     ]
    }
   ],
   "source": [
    "train_df = pd.read_feather(parent_path+'/data/AAPL_with_indicators.feather')\n",
    "exec(execution_result)"
   ]
  }
 ],
 "metadata": {
  "kernelspec": {
   "display_name": "LLM",
   "language": "python",
   "name": "python3"
  },
  "language_info": {
   "codemirror_mode": {
    "name": "ipython",
    "version": 3
   },
   "file_extension": ".py",
   "mimetype": "text/x-python",
   "name": "python",
   "nbconvert_exporter": "python",
   "pygments_lexer": "ipython3",
   "version": "3.10.14"
  }
 },
 "nbformat": 4,
 "nbformat_minor": 2
}
