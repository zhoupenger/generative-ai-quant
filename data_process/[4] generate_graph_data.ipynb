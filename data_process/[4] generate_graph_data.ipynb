{
 "cells": [
  {
   "cell_type": "code",
   "execution_count": 9,
   "metadata": {},
   "outputs": [],
   "source": [
    "import os\n",
    "import sys\n",
    "import warnings\n",
    "import pandas as pd\n",
    "warnings.filterwarnings('ignore')\n",
    "\n",
    "parent_path = os.path.dirname(os.getcwd())\n",
    "tools_path = os.path.join(parent_path, 'tools')\n",
    "sys.path.append(parent_path)\n",
    "sys.path.append(tools_path)"
   ]
  },
  {
   "cell_type": "code",
   "execution_count": 10,
   "metadata": {},
   "outputs": [],
   "source": [
    "from tools.multimodal import generate_ohlcv_changes\n",
    "\n",
    "aapl = pd.read_feather(parent_path+'/data/AAPL_with_indicators.feather')\n",
    "amzn = pd.read_feather(parent_path+'/data/AMZN_with_indicators.feather')\n",
    "goog = pd.read_feather(parent_path+'/data/GOOGL_with_indicators.feather')\n",
    "msft = pd.read_feather(parent_path+'/data/MSFT_with_indicators.feather')\n",
    "tsla = pd.read_feather(parent_path+'/data/TSLA_with_indicators.feather')\n",
    "\n",
    "base_path = parent_path +'/data/graph/'"
   ]
  },
  {
   "cell_type": "code",
   "execution_count": 11,
   "metadata": {},
   "outputs": [
    {
     "data": {
      "text/html": [
       "<div>\n",
       "<style scoped>\n",
       "    .dataframe tbody tr th:only-of-type {\n",
       "        vertical-align: middle;\n",
       "    }\n",
       "\n",
       "    .dataframe tbody tr th {\n",
       "        vertical-align: top;\n",
       "    }\n",
       "\n",
       "    .dataframe thead th {\n",
       "        text-align: right;\n",
       "    }\n",
       "</style>\n",
       "<table border=\"1\" class=\"dataframe\">\n",
       "  <thead>\n",
       "    <tr style=\"text-align: right;\">\n",
       "      <th></th>\n",
       "      <th>date</th>\n",
       "      <th>open</th>\n",
       "      <th>high</th>\n",
       "      <th>low</th>\n",
       "      <th>close</th>\n",
       "      <th>volume</th>\n",
       "      <th>SMA</th>\n",
       "      <th>EMA</th>\n",
       "      <th>RSI</th>\n",
       "      <th>DX</th>\n",
       "      <th>ATR</th>\n",
       "      <th>BIAS</th>\n",
       "      <th>ROC</th>\n",
       "    </tr>\n",
       "  </thead>\n",
       "  <tbody>\n",
       "    <tr>\n",
       "      <th>1192</th>\n",
       "      <td>2023-02-22</td>\n",
       "      <td>148.869995</td>\n",
       "      <td>149.949997</td>\n",
       "      <td>147.160004</td>\n",
       "      <td>148.119385</td>\n",
       "      <td>51011300</td>\n",
       "      <td>148.869776</td>\n",
       "      <td>147.964329</td>\n",
       "      <td>53.315802</td>\n",
       "      <td>22.382245</td>\n",
       "      <td>3.671963</td>\n",
       "      <td>-0.005041</td>\n",
       "      <td>-3.564587</td>\n",
       "    </tr>\n",
       "    <tr>\n",
       "      <th>1193</th>\n",
       "      <td>2023-02-23</td>\n",
       "      <td>150.089996</td>\n",
       "      <td>150.339996</td>\n",
       "      <td>147.240005</td>\n",
       "      <td>148.606796</td>\n",
       "      <td>48394200</td>\n",
       "      <td>149.255531</td>\n",
       "      <td>148.025516</td>\n",
       "      <td>54.185791</td>\n",
       "      <td>23.679107</td>\n",
       "      <td>3.631107</td>\n",
       "      <td>-0.004346</td>\n",
       "      <td>-1.508606</td>\n",
       "    </tr>\n",
       "    <tr>\n",
       "      <th>1194</th>\n",
       "      <td>2023-02-24</td>\n",
       "      <td>147.110001</td>\n",
       "      <td>147.190002</td>\n",
       "      <td>145.720001</td>\n",
       "      <td>145.931061</td>\n",
       "      <td>55469600</td>\n",
       "      <td>149.403216</td>\n",
       "      <td>147.826044</td>\n",
       "      <td>48.808414</td>\n",
       "      <td>15.574007</td>\n",
       "      <td>3.577942</td>\n",
       "      <td>-0.023240</td>\n",
       "      <td>-2.608869</td>\n",
       "    </tr>\n",
       "    <tr>\n",
       "      <th>1195</th>\n",
       "      <td>2023-02-27</td>\n",
       "      <td>147.710007</td>\n",
       "      <td>149.169998</td>\n",
       "      <td>147.449997</td>\n",
       "      <td>147.134644</td>\n",
       "      <td>44998500</td>\n",
       "      <td>149.513253</td>\n",
       "      <td>147.760196</td>\n",
       "      <td>51.156476</td>\n",
       "      <td>22.681997</td>\n",
       "      <td>3.553728</td>\n",
       "      <td>-0.015909</td>\n",
       "      <td>-2.046221</td>\n",
       "    </tr>\n",
       "    <tr>\n",
       "      <th>1196</th>\n",
       "      <td>2023-02-28</td>\n",
       "      <td>147.050003</td>\n",
       "      <td>149.080002</td>\n",
       "      <td>146.830002</td>\n",
       "      <td>146.627350</td>\n",
       "      <td>50547000</td>\n",
       "      <td>149.743425</td>\n",
       "      <td>147.652306</td>\n",
       "      <td>50.113125</td>\n",
       "      <td>19.295100</td>\n",
       "      <td>3.460604</td>\n",
       "      <td>-0.020809</td>\n",
       "      <td>-4.185895</td>\n",
       "    </tr>\n",
       "  </tbody>\n",
       "</table>\n",
       "</div>"
      ],
      "text/plain": [
       "           date        open        high         low       close    volume  \\\n",
       "1192 2023-02-22  148.869995  149.949997  147.160004  148.119385  51011300   \n",
       "1193 2023-02-23  150.089996  150.339996  147.240005  148.606796  48394200   \n",
       "1194 2023-02-24  147.110001  147.190002  145.720001  145.931061  55469600   \n",
       "1195 2023-02-27  147.710007  149.169998  147.449997  147.134644  44998500   \n",
       "1196 2023-02-28  147.050003  149.080002  146.830002  146.627350  50547000   \n",
       "\n",
       "             SMA         EMA        RSI         DX       ATR      BIAS  \\\n",
       "1192  148.869776  147.964329  53.315802  22.382245  3.671963 -0.005041   \n",
       "1193  149.255531  148.025516  54.185791  23.679107  3.631107 -0.004346   \n",
       "1194  149.403216  147.826044  48.808414  15.574007  3.577942 -0.023240   \n",
       "1195  149.513253  147.760196  51.156476  22.681997  3.553728 -0.015909   \n",
       "1196  149.743425  147.652306  50.113125  19.295100  3.460604 -0.020809   \n",
       "\n",
       "           ROC  \n",
       "1192 -3.564587  \n",
       "1193 -1.508606  \n",
       "1194 -2.608869  \n",
       "1195 -2.046221  \n",
       "1196 -4.185895  "
      ]
     },
     "execution_count": 11,
     "metadata": {},
     "output_type": "execute_result"
    }
   ],
   "source": [
    "train_size = int(len(aapl) * 0.8)\n",
    "train_df = aapl[:train_size]\n",
    "test_df = aapl[train_size:]\n",
    "\n",
    "test_df.head()"
   ]
  },
  {
   "cell_type": "code",
   "execution_count": 12,
   "metadata": {},
   "outputs": [
    {
     "data": {
      "text/plain": [
       "'2023-02-22'"
      ]
     },
     "execution_count": 12,
     "metadata": {},
     "output_type": "execute_result"
    }
   ],
   "source": [
    "date = test_df['date'].astype(str).to_list()\n",
    "date[0]"
   ]
  },
  {
   "cell_type": "code",
   "execution_count": 13,
   "metadata": {},
   "outputs": [],
   "source": [
    "# 先把图片全部准备好\n",
    "from tools.multimodal import *\n",
    "\n",
    "for i in range(len(date)):\n",
    "    current_time = date[i]\n",
    "    plot_stock_graph(aapl, current_time, base_path)\n"
   ]
  }
 ],
 "metadata": {
  "kernelspec": {
   "display_name": "LLM",
   "language": "python",
   "name": "python3"
  },
  "language_info": {
   "codemirror_mode": {
    "name": "ipython",
    "version": 3
   },
   "file_extension": ".py",
   "mimetype": "text/x-python",
   "name": "python",
   "nbconvert_exporter": "python",
   "pygments_lexer": "ipython3",
   "version": "3.10.14"
  }
 },
 "nbformat": 4,
 "nbformat_minor": 2
}
