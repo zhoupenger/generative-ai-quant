{
 "cells": [
  {
   "cell_type": "code",
   "execution_count": 1,
   "metadata": {},
   "outputs": [],
   "source": [
    "# 这个文件用来检查model1的信号转好功能是否正常\n",
    "# 这个功能很容易出错\n",
    "\n",
    "import os\n",
    "import sys\n",
    "import warnings\n",
    "import pandas as pd\n",
    "warnings.filterwarnings('ignore')\n",
    "\n",
    "parent_path = os.path.dirname(os.getcwd())\n",
    "tools_path = os.path.join(parent_path, 'tools')\n",
    "sys.path.append(parent_path)\n",
    "sys.path.append(tools_path)\n",
    "\n",
    "from tools.path import get_env_path, get_prompt_from_file\n",
    "from tools.CTA_GEP import GeneticProgram\n",
    "from tools.backtest import BacktestEngine\n",
    "from tools.more_operators import *\n",
    "from tools.evaluate_and_visualizations import *"
   ]
  },
  {
   "cell_type": "code",
   "execution_count": 2,
   "metadata": {},
   "outputs": [
    {
     "data": {
      "text/plain": [
       "True"
      ]
     },
     "execution_count": 2,
     "metadata": {},
     "output_type": "execute_result"
    }
   ],
   "source": [
    "from dotenv import load_dotenv\n",
    "env = get_env_path('project')\n",
    "load_dotenv(env)"
   ]
  },
  {
   "cell_type": "code",
   "execution_count": 3,
   "metadata": {},
   "outputs": [],
   "source": [
    "from langchain_core.messages import (\n",
    "    BaseMessage,\n",
    "    ToolMessage,\n",
    "    HumanMessage,\n",
    ")\n",
    "from langchain_core.prompts import ChatPromptTemplate, MessagesPlaceholder\n",
    "from langgraph.graph import END, StateGraph\n",
    "\n",
    "from langchain_openai import ChatOpenAI\n",
    "from typing_extensions import TypedDict\n",
    "from pandas import DataFrame\n"
   ]
  },
  {
   "cell_type": "code",
   "execution_count": 4,
   "metadata": {},
   "outputs": [],
   "source": [
    "#GEP_str = \"add(\\n\\tKAMA(neg(_open), _close),\\n\\tBIAS\\n)\"\n",
    "#GEP_str = \"add(\\n\\tMA(BIAS, _open),\\n\\tBIAS\\n)\"\n",
    "#GEP_str = \"add(\\n\\tBIAS,\\n\\tts_corr(ts_mean_return(delta(ts_stddev(EMA, SMA), SMA), DX), ts_mean_return(_low, MIDPRICE(sin(8), EMA, RSI)), ATR)\\n)\"\n",
    "GEP_str = \"add(\\n\\tmul(BIAS, protected_div(ATR, MA(BIAS, DX))),\\n\\tts_corr(ts_argmin(_low, EMA), _volume, MA(_high, RSI))\\n)\""
   ]
  },
  {
   "cell_type": "code",
   "execution_count": 5,
   "metadata": {},
   "outputs": [],
   "source": [
    "llm = ChatOpenAI(model=\"gpt-4-1106-preview\")\n",
    "system_prompt = get_prompt_from_file(\"model_1_backtest_node\")\n",
    "\n",
    "prompt = ChatPromptTemplate.from_messages(\n",
    "        [\n",
    "            (\"system\", system_prompt),\n",
    "            MessagesPlaceholder(variable_name=\"messages\"),\n",
    "        ]\n",
    "    )\n",
    "\n",
    "# 打开和读取文件\n",
    "with open('/Users/syesw/Desktop/Generative_AI_Quant/prompts/supported_operators.txt', 'r') as file:\n",
    "    supported_operators = file.read()\n",
    "\n",
    "with open('/Users/syesw/Desktop/Generative_AI_Quant/prompts/supported_factors.txt', 'r') as file:\n",
    "    supported_factors = file.read()\n",
    "\n",
    "prompt = prompt.partial(GEP_str=GEP_str)\n",
    "prompt = prompt.partial(supported_operators=supported_operators)\n",
    "prompt = prompt.partial(supported_factors=supported_factors)\n",
    "signal_chain = prompt | llm\n",
    "result = signal_chain.invoke(['help me convert the str to a signal equation'])\n",
    "\n",
    "signal_equation = str(result.content)"
   ]
  },
  {
   "cell_type": "code",
   "execution_count": 6,
   "metadata": {},
   "outputs": [
    {
     "data": {
      "text/plain": [
       "\"signals = add(\\n    mul(self.df.loc[i, 'BIAS'], protected_div(self.df.loc[i, 'ATR'], MA(self.df.loc[i, 'BIAS'], self.df.loc[i, 'DX']))),\\n    ts_corr(ts_argmin(self.df.loc[i, 'low'], self.df.loc[i, 'EMA']), self.df.loc[i, 'volume'], MA(self.df.loc[i, 'high'], self.df.loc[i, 'RSI']))\\n)\""
      ]
     },
     "execution_count": 6,
     "metadata": {},
     "output_type": "execute_result"
    }
   ],
   "source": [
    "signal_equation"
   ]
  }
 ],
 "metadata": {
  "kernelspec": {
   "display_name": "LLM",
   "language": "python",
   "name": "python3"
  },
  "language_info": {
   "codemirror_mode": {
    "name": "ipython",
    "version": 3
   },
   "file_extension": ".py",
   "mimetype": "text/x-python",
   "name": "python",
   "nbconvert_exporter": "python",
   "pygments_lexer": "ipython3",
   "version": "3.10.14"
  }
 },
 "nbformat": 4,
 "nbformat_minor": 2
}
