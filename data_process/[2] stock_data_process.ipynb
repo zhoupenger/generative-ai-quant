{
 "cells": [
  {
   "cell_type": "code",
   "execution_count": 1,
   "metadata": {},
   "outputs": [],
   "source": [
    "import os\n",
    "import sys\n",
    "import warnings\n",
    "import pandas as pd\n",
    "warnings.filterwarnings('ignore')\n",
    "\n",
    "parent_path = os.path.dirname(os.getcwd())\n",
    "sys.path.append(parent_path)\n",
    "from tools.indicators import compute_indicators"
   ]
  },
  {
   "cell_type": "code",
   "execution_count": 2,
   "metadata": {},
   "outputs": [],
   "source": [
    "aapl = pd.read_feather(parent_path+'/data/AAPL.feather')\n",
    "amzn = pd.read_feather(parent_path+'/data/AMZN.feather')\n",
    "goog = pd.read_feather(parent_path+'/data/GOOGL.feather')\n",
    "msft = pd.read_feather(parent_path+'/data/MSFT.feather')\n",
    "tsla = pd.read_feather(parent_path+'/data/TSLA.feather')"
   ]
  },
  {
   "cell_type": "code",
   "execution_count": 5,
   "metadata": {},
   "outputs": [],
   "source": [
    "aapl_with_indicators = compute_indicators(aapl)\n",
    "amzn_with_indicators = compute_indicators(amzn)\n",
    "goog_with_indicators = compute_indicators(goog)\n",
    "msft_with_indicators = compute_indicators(msft)\n",
    "tsla_with_indicators = compute_indicators(tsla)\n",
    "\n",
    "#aapl_with_indicators.to_feather(parent_path+'/data/AAPL_with_indicators.feather')"
   ]
  },
  {
   "cell_type": "code",
   "execution_count": 10,
   "metadata": {},
   "outputs": [],
   "source": [
    "aapl_with_indicators.to_feather(parent_path+'/data/AAPL_with_indicators.feather')\n",
    "amzn_with_indicators.to_feather(parent_path+'/data/AMZN_with_indicators.feather')\n",
    "goog_with_indicators.to_feather(parent_path+'/data/GOOGL_with_indicators.feather')\n",
    "msft_with_indicators.to_feather(parent_path+'/data/MSFT_with_indicators.feather')\n",
    "tsla_with_indicators.to_feather(parent_path+'/data/TSLA_with_indicators.feather')"
   ]
  }
 ],
 "metadata": {
  "kernelspec": {
   "display_name": "LLM",
   "language": "python",
   "name": "python3"
  },
  "language_info": {
   "codemirror_mode": {
    "name": "ipython",
    "version": 3
   },
   "file_extension": ".py",
   "mimetype": "text/x-python",
   "name": "python",
   "nbconvert_exporter": "python",
   "pygments_lexer": "ipython3",
   "version": "3.1.-1"
  }
 },
 "nbformat": 4,
 "nbformat_minor": 2
}
