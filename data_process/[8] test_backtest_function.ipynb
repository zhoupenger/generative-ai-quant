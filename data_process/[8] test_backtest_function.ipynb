{
 "cells": [
  {
   "cell_type": "code",
   "execution_count": 13,
   "metadata": {},
   "outputs": [],
   "source": [
    "# 这个文件用来检查model1的信号转好功能是否正常\n",
    "# 这个功能很容易出错\n",
    "\n",
    "import os\n",
    "import sys\n",
    "import warnings\n",
    "import pandas as pd\n",
    "warnings.filterwarnings('ignore')\n",
    "\n",
    "parent_path = os.path.dirname(os.getcwd())\n",
    "tools_path = os.path.join(parent_path, 'tools')\n",
    "sys.path.append(parent_path)\n",
    "sys.path.append(tools_path)\n",
    "\n",
    "from tools.path import get_env_path, get_prompt_from_file\n",
    "from tools.CTA_GEP import GeneticProgram\n",
    "from tools.backtest import BacktestEngine\n",
    "from tools.more_operators import *\n",
    "from tools.evaluate_and_visualizations import *"
   ]
  },
  {
   "cell_type": "code",
   "execution_count": 14,
   "metadata": {},
   "outputs": [],
   "source": [
    "data = pd.read_feather('/Users/syesw/Desktop/Generative_AI_Quant/data/AAPL_with_indicators.feather')\n",
    "\n",
    "train_size = int(len(data) * 0.8)\n",
    "train_df = data[:train_size]\n",
    "test_df = data[train_size:]"
   ]
  },
  {
   "cell_type": "code",
   "execution_count": 15,
   "metadata": {},
   "outputs": [],
   "source": [
    "#signal_equation = \"signals = add(MA(self.df.loc[i, 'BIAS'], self.df.loc[i, 'open']), self.df.loc[i, 'BIAS'])\"\n",
    "signal_equation = \"signals = add(self.df.loc[i, 'BIAS'], ts_corr(ts_mean_return(delta(ts_stddev(self.df.loc[i, 'EMA'], self.df.loc[i, 'SMA']), self.df.loc[i, 'SMA']), self.df.loc[i, 'DX']), ts_mean_return(self.df.loc[i, 'low'], MIDPRICE(math.sin(8), self.df.loc[i, 'EMA'], self.df.loc[i, 'RSI'])), self.df.loc[i, 'ATR']))\"\n"
   ]
  },
  {
   "cell_type": "code",
   "execution_count": 16,
   "metadata": {},
   "outputs": [],
   "source": [
    "bt_train = BacktestEngine(data=train_df, signal_str=signal_equation)\n",
    "bt_train_return = bt_train.run_backtest()\n",
    "train_return_rate, train_max_drawdown, train_sharpe_ratio = get_backtest_ratios(bt_train_return)\n",
    "\n",
    "\n",
    "bt_test = BacktestEngine(data=test_df, signal_str=signal_equation)\n",
    "bt_test_return = bt_test.run_backtest()\n",
    "test_return_rate, test_max_drawdown, test_sharpe_ratio = get_backtest_ratios(bt_test_return)\n",
    "\n",
    "bt = BacktestEngine(data=data, signal_str=signal_equation)\n",
    "bt_return = bt.run_backtest()"
   ]
  },
  {
   "cell_type": "code",
   "execution_count": 17,
   "metadata": {},
   "outputs": [
    {
     "name": "stdout",
     "output_type": "stream",
     "text": [
      "test_return_rate:-9.205828769919911\n",
      "test_sharpe_ratio:-0.43444422854157816\n",
      "test_max_drawdown:-17.247722248144633\n"
     ]
    }
   ],
   "source": [
    "print(\"test_return_rate:\" + str(test_return_rate))\n",
    "print(\"test_sharpe_ratio:\" + str(test_sharpe_ratio))\n",
    "print(\"test_max_drawdown:\" + str(test_max_drawdown))"
   ]
  }
 ],
 "metadata": {
  "kernelspec": {
   "display_name": "LLM",
   "language": "python",
   "name": "python3"
  },
  "language_info": {
   "codemirror_mode": {
    "name": "ipython",
    "version": 3
   },
   "file_extension": ".py",
   "mimetype": "text/x-python",
   "name": "python",
   "nbconvert_exporter": "python",
   "pygments_lexer": "ipython3",
   "version": "3.1.-1"
  }
 },
 "nbformat": 4,
 "nbformat_minor": 2
}
