{
 "cells": [
  {
   "cell_type": "code",
   "execution_count": 1,
   "metadata": {},
   "outputs": [],
   "source": [
    "import os\n",
    "import sys\n",
    "import warnings\n",
    "warnings.filterwarnings('ignore')\n",
    "\n",
    "parent_path = os.path.dirname(os.getcwd())\n",
    "sys.path.append(parent_path)"
   ]
  },
  {
   "cell_type": "code",
   "execution_count": 2,
   "metadata": {},
   "outputs": [],
   "source": [
    "from tools.numerical_GEP import GeneticProgram"
   ]
  },
  {
   "cell_type": "code",
   "execution_count": 3,
   "metadata": {},
   "outputs": [
    {
     "name": "stdout",
     "output_type": "stream",
     "text": [
      "gen\tnevals\tavg   \tstd    \tmin    \tmax    \n",
      "0  \t100   \t132.93\t228.967\t56.8054\t1908.16\n",
      "1  \t99    \t78.1836\t15.9981\t49.1685\t160.365\n",
      "2  \t99    \t103.759\t283.626\t49.1685\t2910.57\n",
      "3  \t99    \t111.033\t281.444\t33.2302\t2836.1 \n",
      "4  \t99    \t75.1021\t24.9068\t33.2302\t223.255\n",
      "5  \t99    \t103.42 \t204.575\t31.7549\t2075.47\n",
      "6  \t99    \t110.521\t354.851\t31.7549\t3605.99\n",
      "7  \t99    \t71.6426\t43.0192\t30.7803\t354.359\n",
      "8  \t99    \t71.4846\t46.21  \t10.3153\t318.405\n",
      "9  \t99    \t66.2965\t37.2795\t10.3153\t315.296\n",
      "10 \t99    \t76.5237\t64.8605\t10.3153\t424.179\n",
      "11 \t99    \t74.6745\t86.8772\t10.3153\t830.276\n",
      "12 \t99    \t82.597 \t81.2909\t1.11004\t596.096\n",
      "13 \t99    \t74.3061\t67.1922\t1.11004\t409.606\n",
      "14 \t99    \t61.1256\t62.1559\t1.11004\t360.355\n",
      "15 \t99    \t62.0017\t52.8319\t1.11004\t337.093\n",
      "16 \t99    \t57.5704\t47.6679\t1.11004\t348.6  \n",
      "17 \t99    \t63.2488\t68.6628\t1.11004\t506.541\n",
      "18 \t99    \t53.486 \t54.3665\t1.11004\t355.205\n",
      "19 \t99    \t65.0336\t136.758\t1.11004\t1318.52\n",
      "20 \t99    \t48.24  \t45.3608\t1.11004\t333.319\n",
      "21 \t99    \t52.2183\t48.9958\t1.11004\t333.567\n",
      "22 \t99    \t63.3566\t104.831\t1.11004\t913.233\n",
      "23 \t99    \t57.48  \t70.6469\t1.11004\t401.292\n",
      "24 \t99    \t55.551 \t45.184 \t1.11004\t258.777\n",
      "25 \t99    \t67.8058\t77.7193\t1.11004\t449.044\n",
      "26 \t99    \t54.1511\t52.5685\t1.11004\t318.903\n",
      "27 \t99    \t81.0915\t97.5407\t1.11004\t632.208\n",
      "28 \t99    \t62.2512\t48.3011\t1.11004\t323.653\n",
      "29 \t99    \t85.1176\t266.024\t1.11004\t2684.1 \n",
      "30 \t99    \t57.2841\t50.0625\t0.721116\t345.105\n"
     ]
    }
   ],
   "source": [
    "gp = GeneticProgram(seed=42)\n",
    "pop, log, hof = gp.run(n_pop=100, n_gen=30)"
   ]
  }
 ],
 "metadata": {
  "kernelspec": {
   "display_name": "LLM",
   "language": "python",
   "name": "python3"
  },
  "language_info": {
   "codemirror_mode": {
    "name": "ipython",
    "version": 3
   },
   "file_extension": ".py",
   "mimetype": "text/x-python",
   "name": "python",
   "nbconvert_exporter": "python",
   "pygments_lexer": "ipython3",
   "version": "3.10.14"
  }
 },
 "nbformat": 4,
 "nbformat_minor": 2
}
